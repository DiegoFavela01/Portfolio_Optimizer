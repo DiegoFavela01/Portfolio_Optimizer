{
 "cells": [
  {
   "cell_type": "code",
   "execution_count": 7,
   "id": "fe47b74e-8d9d-4337-b9c2-809826f67f80",
   "metadata": {},
   "outputs": [],
   "source": [
    "import pandas as pd\n",
    "import numpy as np\n",
    "import datetime as dt\n",
    "from pandas_datareader import data as pdr\n",
    "import yfinance as yf\n",
    "import scipy as sc\n",
    "yf.pdr_override()"
   ]
  },
  {
   "cell_type": "code",
   "execution_count": 32,
   "id": "b43448b0-e936-4e61-8102-f9cc1271546e",
   "metadata": {},
   "outputs": [],
   "source": [
    "#import data\n",
    "def getsp_list():\n",
    "    # Get list of S&P stocks from wiki\n",
    "    sp500url = 'https://en.wikipedia.org/wiki/List_of_S%26P_500_companies'\n",
    "    data_table = pd.read_html(sp500url)\n",
    "    # Place list of stocks in a table\n",
    "    snp_list = data_table[0]\n",
    "    # remove unneeded columns\n",
    "    snp_list = snp_list.drop(columns=[\"CIK\",\"Founded\",\"Headquarters Location\"], inplace=False)\n",
    "    # set index\n",
    "    snp_list = snp_list.set_index(\"Symbol\",inplace=False)\n",
    "    # set convert add dates to datetime format\n",
    "    snp_list['Date added'] = pd.to_datetime(snp_list['Date added'], errors='coerce')\n",
    "    full_list = snp_list.index.T.to_list()\n",
    "    return full_list\n",
    "\n",
    "def getData(stocks, start, end):\n",
    "    stockdata = pdr.get_data_yahoo(stocks, start=start, end=end)\n",
    "    stockdata = stockdata['Adj Close']\n",
    "    \n",
    "    returns = stockdata.pct_change().dropna(how='all').dropna(axis=1)\n",
    "    return_list = returns.columns.T.to_list()\n",
    "    mean_returns = returns.mean()\n",
    "    cov_matrix = returns.cov()\n",
    "    return mean_returns, cov_matrix, return_list\n",
    "\n",
    "# Calculate portfolio performance\n",
    "def portfolio_perform(weights, mean_returns, cov_matrix):  \n",
    "    returns = np.sum(mean_returns*weights)*252\n",
    "    std = np.sqrt( np.dot(pd.DataFrame(weights).T.values.tolist(), np.dot(cov_matrix, weights)) ) * np.sqrt(252)\n",
    "    return returns, std\n",
    "\n",
    "def port_std(weights, cov_matrix):\n",
    "    std = np.sqrt( np.dot(pd.DataFrame(weights).T.values.tolist(), np.dot(cov_matrix, weights)) ) * np.sqrt(252)\n",
    "    return std\n",
    "\n",
    "def neg_sharperatio(weights, mean_returns, cov_matrix, riskfreerate = .03):\n",
    "    preturns, pstd = portfolio_perform(weights, mean_returns, cov_matrix)\n",
    "    return - (preturns- riskfreerate)/pstd\n",
    "    \n",
    "def max_sf(mean_returns, cov_matrix, riskfreerate = .03, constraint_set=(0,.05)):\n",
    "    # Minimizing the negative SR by alering the weights of the portfolio\n",
    "    num_assets = len(mean_returns)\n",
    "    args = (mean_returns, cov_matrix, riskfreerate)\n",
    "    # Use no risk constraint or constraint set up by user\n",
    "    if 1==1:\n",
    "        constraints = ({'type': 'eq', 'fun': lambda x: np.sum(x) - 1})\n",
    "    else:\n",
    "        constraints = ({'type': 'eq', 'fun': lambda x: np.sum(x) - 1},\n",
    "                       {'type': 'eq', 'fun': lambda x: (np.sqrt( np.dot(pd.DataFrame(x).T.values.tolist(), np.dot(cov_matrix, x)) ) * np.sqrt(252))-.25})\n",
    "\n",
    "    bound = constraint_set\n",
    "    bounds = tuple(bound for asset in range(num_assets))\n",
    "    result = sc.optimize.minimize(neg_sharperatio, num_assets*[1/num_assets], args=args,\n",
    "                        method='SLSQP', bounds=bounds, constraints=constraints)\n",
    "    return result"
   ]
  },
  {
   "cell_type": "code",
   "execution_count": 22,
   "id": "c92d3eb5-0bce-4416-95c7-c1364eb54467",
   "metadata": {},
   "outputs": [],
   "source": [
    "weights = [.03,.03,.04,.0002]\n",
    "\n"
   ]
  },
  {
   "cell_type": "code",
   "execution_count": 13,
   "id": "9804707d-5c31-447b-a50e-c1e26642b12a",
   "metadata": {},
   "outputs": [],
   "source": [
    "stocklist = ['CBA','TSLA','AAPL', 'GOOG', 'SPY', 'F', 'LQDI', 'BNDX']\n",
    "weights = [.03,.03,.04]\n",
    "\n",
    "end1 = dt.date.today()\n",
    "start1 = end1 - dt.timedelta(days=365)\n",
    "start = start1.strftime('%Y-%m-%d')\n",
    "end = end1.strftime('%Y-%m-%d')"
   ]
  },
  {
   "cell_type": "code",
   "execution_count": 25,
   "id": "81bc63e3-bbd5-423c-859b-a7c54ebf769f",
   "metadata": {},
   "outputs": [
    {
     "name": "stdout",
     "output_type": "stream",
     "text": [
      "[*********************100%***********************]  503 of 503 completed\n",
      "\n",
      "2 Failed downloads:\n",
      "- BRK.B: No timezone found, symbol may be delisted\n",
      "- BF.B: No data found for this date range, symbol may be delisted\n"
     ]
    }
   ],
   "source": [
    "full_list = getsp_list()\n",
    "mean_returns, cov_matrix, return_list = getData(stocks=full_list,start=start,end=end)\n",
    "# returns, std = portfolio_perform(weights, mean_returns, cov_matrix)"
   ]
  },
  {
   "cell_type": "code",
   "execution_count": 33,
   "id": "8b8a1bf2-b266-4b27-83f2-58005b0f6286",
   "metadata": {},
   "outputs": [],
   "source": [
    "results = max_sf(mean_returns, cov_matrix)\n",
    "\n",
    "max_sr, opt_weights = results['fun']*(-1),results['x']"
   ]
  },
  {
   "cell_type": "code",
   "execution_count": 37,
   "id": "594ac7d9-a767-4613-b6ed-3e5b94e6894f",
   "metadata": {},
   "outputs": [
    {
     "data": {
      "text/plain": [
       "array([0.25])"
      ]
     },
     "execution_count": 37,
     "metadata": {},
     "output_type": "execute_result"
    }
   ],
   "source": [
    "portfolio_std = port_std(opt_weights, cov_matrix)\n",
    "portfolio_std"
   ]
  },
  {
   "cell_type": "code",
   "execution_count": 34,
   "id": "50f9c9ba-488e-4ad8-9c9f-ea5ba43e7134",
   "metadata": {},
   "outputs": [
    {
     "name": "stdout",
     "output_type": "stream",
     "text": [
      "The optimizer gave us a max Sharpe Ratio of 2.5018772273191363\n"
     ]
    }
   ],
   "source": [
    "# print(round(returns*100,2))\n",
    "# print(std.sum()*100)\n",
    "print(f'The optimizer gave us a max Sharpe Ratio of {max_sr}')\n",
    "stock_list = pd.DataFrame(opt_weights, index = return_list)\n",
    "stock_list = stock_list[stock_list.iloc[0:]>0].dropna()\n",
    "stock_list = stock_list.T\n",
    "stock_test = stock_list.columns.to_list()\n",
    "weights = stock_list.iloc[:1].values.tolist()"
   ]
  },
  {
   "cell_type": "code",
   "execution_count": 35,
   "id": "f73aeacf-6ef5-4ce6-bcb8-d4e7b755b955",
   "metadata": {},
   "outputs": [
    {
     "data": {
      "text/plain": [
       "0.6554693068334575"
      ]
     },
     "execution_count": 35,
     "metadata": {},
     "output_type": "execute_result"
    }
   ],
   "source": [
    "# stock_new = pd.concat([stock_list,mean_returns],axis=0,join=\"inner\")\n",
    "port_returns = pd.DataFrame()\n",
    "port_returns['weights'] = stock_list.T\n",
    "port_returns = pd.concat([port_returns,mean_returns],axis=1,join='inner')\n",
    "port_returns.columns = ['weights','avg_returns']\n",
    "port_returns['weighted_return'] = port_returns[['weights','avg_returns']].prod(axis=1)*252\n",
    "final_return = port_returns['weighted_return'].sum()\n",
    "final_return"
   ]
  },
  {
   "cell_type": "code",
   "execution_count": 36,
   "id": "144614ce-9074-42d3-a3a6-5526ef2bfebc",
   "metadata": {},
   "outputs": [
    {
     "data": {
      "text/html": [
       "<div>\n",
       "<style scoped>\n",
       "    .dataframe tbody tr th:only-of-type {\n",
       "        vertical-align: middle;\n",
       "    }\n",
       "\n",
       "    .dataframe tbody tr th {\n",
       "        vertical-align: top;\n",
       "    }\n",
       "\n",
       "    .dataframe thead th {\n",
       "        text-align: right;\n",
       "    }\n",
       "</style>\n",
       "<table border=\"1\" class=\"dataframe\">\n",
       "  <thead>\n",
       "    <tr style=\"text-align: right;\">\n",
       "      <th></th>\n",
       "      <th>ABBV</th>\n",
       "      <th>ABC</th>\n",
       "      <th>ACGL</th>\n",
       "      <th>ACN</th>\n",
       "      <th>ADI</th>\n",
       "      <th>ADM</th>\n",
       "      <th>ADSK</th>\n",
       "      <th>AES</th>\n",
       "      <th>AFL</th>\n",
       "      <th>AKAM</th>\n",
       "      <th>...</th>\n",
       "      <th>WRB</th>\n",
       "      <th>WRK</th>\n",
       "      <th>WTW</th>\n",
       "      <th>WYNN</th>\n",
       "      <th>XOM</th>\n",
       "      <th>XRAY</th>\n",
       "      <th>XYL</th>\n",
       "      <th>YUM</th>\n",
       "      <th>ZBRA</th>\n",
       "      <th>ZION</th>\n",
       "    </tr>\n",
       "  </thead>\n",
       "  <tbody>\n",
       "    <tr>\n",
       "      <th>0</th>\n",
       "      <td>3.756305e-15</td>\n",
       "      <td>7.482631e-15</td>\n",
       "      <td>0.05</td>\n",
       "      <td>1.705841e-15</td>\n",
       "      <td>5.634415e-16</td>\n",
       "      <td>3.535639e-16</td>\n",
       "      <td>2.553204e-15</td>\n",
       "      <td>2.294687e-15</td>\n",
       "      <td>1.831001e-15</td>\n",
       "      <td>2.045158e-15</td>\n",
       "      <td>...</td>\n",
       "      <td>1.100113e-16</td>\n",
       "      <td>2.594823e-15</td>\n",
       "      <td>1.974955e-16</td>\n",
       "      <td>0.05</td>\n",
       "      <td>8.182795e-16</td>\n",
       "      <td>2.008054e-16</td>\n",
       "      <td>1.226199e-16</td>\n",
       "      <td>1.654101e-16</td>\n",
       "      <td>3.005918e-15</td>\n",
       "      <td>2.457095e-15</td>\n",
       "    </tr>\n",
       "  </tbody>\n",
       "</table>\n",
       "<p>1 rows × 239 columns</p>\n",
       "</div>"
      ],
      "text/plain": [
       "           ABBV           ABC  ACGL           ACN           ADI           ADM  \\\n",
       "0  3.756305e-15  7.482631e-15  0.05  1.705841e-15  5.634415e-16  3.535639e-16   \n",
       "\n",
       "           ADSK           AES           AFL          AKAM  ...           WRB  \\\n",
       "0  2.553204e-15  2.294687e-15  1.831001e-15  2.045158e-15  ...  1.100113e-16   \n",
       "\n",
       "            WRK           WTW  WYNN           XOM          XRAY           XYL  \\\n",
       "0  2.594823e-15  1.974955e-16  0.05  8.182795e-16  2.008054e-16  1.226199e-16   \n",
       "\n",
       "            YUM          ZBRA          ZION  \n",
       "0  1.654101e-16  3.005918e-15  2.457095e-15  \n",
       "\n",
       "[1 rows x 239 columns]"
      ]
     },
     "execution_count": 36,
     "metadata": {},
     "output_type": "execute_result"
    }
   ],
   "source": [
    "stock_list"
   ]
  },
  {
   "cell_type": "code",
   "execution_count": null,
   "id": "f00098fd-2b61-4230-bf56-29261cf64888",
   "metadata": {},
   "outputs": [],
   "source": []
  }
 ],
 "metadata": {
  "kernelspec": {
   "display_name": "Python (dev)",
   "language": "python",
   "name": "dev"
  },
  "language_info": {
   "codemirror_mode": {
    "name": "ipython",
    "version": 3
   },
   "file_extension": ".py",
   "mimetype": "text/x-python",
   "name": "python",
   "nbconvert_exporter": "python",
   "pygments_lexer": "ipython3",
   "version": "3.9.13"
  }
 },
 "nbformat": 4,
 "nbformat_minor": 5
}
