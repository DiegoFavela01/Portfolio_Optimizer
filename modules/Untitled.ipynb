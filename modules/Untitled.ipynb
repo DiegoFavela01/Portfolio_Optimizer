{
 "cells": [
  {
   "cell_type": "code",
   "execution_count": 1,
   "id": "33f9265c-3141-463f-bd11-728fefb164c5",
   "metadata": {},
   "outputs": [],
   "source": [
    "# General libraries\n",
    "import pandas as pd\n",
    "import numpy as np\n",
    "import datetime as dt\n",
    "import matplotlib.pyplot as plt\n",
    "\n",
    "# API Based Libraries\n",
    "import pandas_market_calendars as mcal\n",
    "from pandas_datareader import data as pdr\n",
    "import yfinance as yf\n",
    "import scipy as sc\n",
    "yf.pdr_override()\n",
    "\n",
    "# Get modules\n",
    "from initial_data_load import refresh_data_tables\n",
    "\n",
    "# turn off warning signs for cleaner code\n",
    "from warnings import filterwarnings\n",
    "filterwarnings(\"ignore\")\n"
   ]
  },
  {
   "cell_type": "code",
   "execution_count": 2,
   "id": "57ddfefa-e6d6-439f-97ef-ecd2a6fb68b0",
   "metadata": {},
   "outputs": [
    {
     "name": "stdout",
     "output_type": "stream",
     "text": [
      "trading dates have been loaded\n",
      "[*********************100%***********************]  505 of 505 completed\n",
      "\n",
      "2 Failed downloads:\n",
      "- BRK.B: No timezone found, symbol may be delisted\n",
      "- BF.B: No data found for this date range, symbol may be delisted\n",
      "stock data has finished loading\n",
      "monthly returns are calculated\n",
      "[*********************100%***********************]  11 of 11 completed\n",
      "ETF data has finished loading\n",
      "Econ data hs loaded\n"
     ]
    }
   ],
   "source": [
    "# Create a dataframe to store portfolio return data\n",
    "final_port_return = pd.DataFrame(columns=['return'])\n",
    "etf_predictions = pd.DataFrame()\n",
    "\n",
    "# Create Global variable to update on status\n",
    "global opt_pct\n",
    "opt_pct = 0\n",
    "\n",
    "# Get today's date for reference\n",
    "today = dt.date.today()\n",
    "\n",
    "# Check to see if data has been updated\n",
    "refresh_data_tables()\n",
    "\n",
    "# etf monthly returns\n",
    "etf_data = pd.read_csv(f\"../csv_files/etf_{today}.csv\", index_col=0, parse_dates=True, infer_datetime_format=True)\n",
    "\n",
    "# Get econ data\n",
    "econ_data = pd.read_csv(f\"../csv_files/econ_data_{today}.csv\", index_col=0, parse_dates=True, infer_datetime_format=True)\n",
    "\n",
    "# get full stock data\n",
    "stock_data = pd.read_csv(f\"../csv_files/snp_500_stocks_{today}.csv\", index_col=0, parse_dates=True, infer_datetime_format=True)\n",
    "# Convert datetimes to dates\n",
    "dates = stock_data.index.tolist()\n",
    "def makethisdate(date):\n",
    "    new = date.date()\n",
    "    new = str(new)\n",
    "    new = pd.to_datetime(new)\n",
    "    return new\n",
    "dates = list(map(makethisdate, dates))\n",
    "stock_data.index = dates\n",
    "\n",
    "# get list of trading dates\n",
    "trading_days = pd.read_csv(f\"../csv_files/trade_dates_{today}.csv\", index_col=0)\n",
    "# get end of months for reference\n",
    "month_ends = trading_days[trading_days['end_of_month']==True][\"dates\"]\n",
    "\n",
    "month_ends = pd.to_datetime(month_ends)\n",
    "month_ends = month_ends[:-1]"
   ]
  },
  {
   "cell_type": "code",
   "execution_count": null,
   "id": "a012bb1b-0ec8-4c9c-b8bd-7205d29ae229",
   "metadata": {},
   "outputs": [],
   "source": []
  }
 ],
 "metadata": {
  "kernelspec": {
   "display_name": "Python (dev)",
   "language": "python",
   "name": "dev"
  },
  "language_info": {
   "codemirror_mode": {
    "name": "ipython",
    "version": 3
   },
   "file_extension": ".py",
   "mimetype": "text/x-python",
   "name": "python",
   "nbconvert_exporter": "python",
   "pygments_lexer": "ipython3",
   "version": "3.9.13"
  }
 },
 "nbformat": 4,
 "nbformat_minor": 5
}
