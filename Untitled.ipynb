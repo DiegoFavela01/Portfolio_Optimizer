{
 "cells": [
  {
   "cell_type": "code",
   "execution_count": 2,
   "id": "4cc31a97-c7a5-46c0-9271-5f9a4ead3e7e",
   "metadata": {},
   "outputs": [],
   "source": [
    "import pandas_datareader.data as web\n",
    "import pandas as pd\n",
    "import matplotlib.pyplot as plt\n",
    "import numpy as np\n",
    "from scipy.optimize import minimize"
   ]
  },
  {
   "cell_type": "code",
   "execution_count": 5,
   "id": "514e0f14-e971-49d1-a42c-2188a62a0fb3",
   "metadata": {},
   "outputs": [],
   "source": [
    "def calc_portfolio_return(weights, mean_returns, cov_matrix):\n",
    "    portfolio_return, portfolio_var, portfolio_std = portfolio(weights, mean_returns, cov_matrix)\n",
    "    return(portfolio_return.item()*252)\n",
    "\n",
    "def efficient_portfolio(mean_returns, cov_matrix, target_return, w_bounds=(0,1)):\n",
    "    \"\"\"retuens the portfolio weights with minimum variance for a specific level of expected portfolio return\"\"\"    \n",
    "\n",
    "    init_guess = np.array([1/len(mean_returns) for _ in range(len(mean_returns))])\n",
    "    args = (mean_returns, cov_matrix)\n",
    "    constraints = ({'type': 'eq', 'fun': lambda x: np.sum(x)-1},\n",
    "                   {'type': 'eq', 'fun': lambda x: 252*np.squeeze(np.dot(x.reshape(1,-1),mean_returns.values.reshape(-1,1))) - target_return})\n",
    "    result = opt.minimize(fun=portfolio_variance,\n",
    "                          x0=init_guess,\n",
    "                          args=args,\n",
    "                          method='SLSQP',\n",
    "                          bounds=tuple(w_bounds for _ in range(len(mean_returns))),\n",
    "                          constraints=constraints,\n",
    "                          )\n",
    "    if not result['success']:\n",
    "        print(result['message'])\n",
    "    efficient_variance = result['fun']\n",
    "    efficient_weights = result['x']\n",
    "    efficient_return, _ , efficient_std = portfolio(efficient_weights, mean_returns, cov_matrix)\n",
    "    efficient_sahrpe = (efficient_return/efficient_return)*(252**0.5)\n",
    "    return(efficient_sahrpe, efficient_weights, efficient_return.item()*252, efficient_variance, efficient_std.item()*(252**0.5))"
   ]
  },
  {
   "cell_type": "code",
   "execution_count": null,
   "id": "67b0af62-d7e3-4631-9d93-b67350844b03",
   "metadata": {},
   "outputs": [],
   "source": [
    "daily_ret_var = daily_ret.var()\n",
    "plt.figure(figsize=(10,8))\n",
    "\n",
    "target_rets = np.arange(0.23,0.35,0.002)\n",
    "efficient_vars = np.array([efficient_portfolio(mean_returns,cov_matrix,target_return=x ,w_bounds=(0,1))[3] for x in target_rets])\n",
    "plt.plot(efficient_vars,target_rets,marker='.',label=\"efficient frontier\")\n",
    "\n",
    "plt.scatter(porfolio_var_list,porfolio_ret_list,c=stat['Sharpe ratio'], alpha=0.8, cmap='plasma')\n",
    "for sym in symbols:\n",
    "    plt.scatter(daily_ret_var.loc[sym]*252, mean_returns.loc[sym]*252, marker='x', s=100, label=sym)\n",
    "\n",
    "plt.scatter([opt_variance], [opt_return], marker='*', s=250, label='max sharpe p', c='blue')\n",
    "plt.scatter(min_var_variance, min_var_return, marker='*', s=250, label='min vol p', c='green')\n",
    "\n",
    "plt.xlabel('Variance')\n",
    "plt.ylabel('Return')\n",
    "plt.title('Efficient Frontier')\n",
    "plt.legend(loc='upper right')\n",
    "\n",
    "cmap = mpl.cm.plasma\n",
    "norm = mpl.colors.Normalize(vmin=stat['Sharpe ratio'].min(), vmax=stat['Sharpe ratio'].max())\n",
    "plt.colorbar(mpl.cm.ScalarMappable(norm=norm, cmap=cmap),label='Sharpe Ratio',);"
   ]
  }
 ],
 "metadata": {
  "kernelspec": {
   "display_name": "Python (dev)",
   "language": "python",
   "name": "dev"
  },
  "language_info": {
   "codemirror_mode": {
    "name": "ipython",
    "version": 3
   },
   "file_extension": ".py",
   "mimetype": "text/x-python",
   "name": "python",
   "nbconvert_exporter": "python",
   "pygments_lexer": "ipython3",
   "version": "3.9.13"
  }
 },
 "nbformat": 4,
 "nbformat_minor": 5
}
