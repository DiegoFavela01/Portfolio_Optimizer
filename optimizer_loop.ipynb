{
 "cells": [
  {
   "cell_type": "code",
   "execution_count": 1,
   "id": "986747a2-23cb-4290-bae9-203e77c6bec8",
   "metadata": {},
   "outputs": [],
   "source": [
    "import pandas as pd\n",
    "import numpy as np\n",
    "import datetime as dt\n",
    "from pandas_datareader import data as pdr\n",
    "import yfinance as yf\n",
    "import scipy as sc\n",
    "yf.pdr_override()"
   ]
  },
  {
   "cell_type": "code",
   "execution_count": null,
   "id": "ef80e405-b3e5-463a-87f9-d2e5b1020bed",
   "metadata": {},
   "outputs": [],
   "source": [
    "# Create List of monthly returns\n",
    "today = dt.date.today()\n",
    "trading_day = pd.read_csv(f'csv_files/trade_dates_{today}\""
   ]
  }
 ],
 "metadata": {
  "kernelspec": {
   "display_name": "Python (dev)",
   "language": "python",
   "name": "dev"
  },
  "language_info": {
   "codemirror_mode": {
    "name": "ipython",
    "version": 3
   },
   "file_extension": ".py",
   "mimetype": "text/x-python",
   "name": "python",
   "nbconvert_exporter": "python",
   "pygments_lexer": "ipython3",
   "version": "3.9.13"
  }
 },
 "nbformat": 4,
 "nbformat_minor": 5
}
